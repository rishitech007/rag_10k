{
 "cells": [
  {
   "cell_type": "code",
   "execution_count": 1,
   "id": "e707001e-9b3a-486f-8ed7-1edfdadc0078",
   "metadata": {
    "tags": []
   },
   "outputs": [
    {
     "name": "stdout",
     "output_type": "stream",
     "text": [
      "Requirement already satisfied: openai in /opt/conda/lib/python3.10/site-packages (from -r requirements.txt (line 1)) (1.107.2)\n",
      "Requirement already satisfied: langchain in /opt/conda/lib/python3.10/site-packages (from -r requirements.txt (line 2)) (0.3.27)\n",
      "Requirement already satisfied: langchain_community in /opt/conda/lib/python3.10/site-packages (from -r requirements.txt (line 4)) (0.3.29)\n",
      "Requirement already satisfied: langchain-openai in /opt/conda/lib/python3.10/site-packages (from -r requirements.txt (line 5)) (0.3.33)\n",
      "Requirement already satisfied: faiss-cpu in /opt/conda/lib/python3.10/site-packages (from -r requirements.txt (line 6)) (1.12.0)\n",
      "Requirement already satisfied: tiktoken in /opt/conda/lib/python3.10/site-packages (from -r requirements.txt (line 7)) (0.11.0)\n",
      "Requirement already satisfied: seaborn in /opt/conda/lib/python3.10/site-packages (from -r requirements.txt (line 8)) (0.13.2)\n",
      "Requirement already satisfied: anyio<5,>=3.5.0 in /opt/conda/lib/python3.10/site-packages (from openai->-r requirements.txt (line 1)) (4.10.0)\n",
      "Requirement already satisfied: distro<2,>=1.7.0 in /opt/conda/lib/python3.10/site-packages (from openai->-r requirements.txt (line 1)) (1.9.0)\n",
      "Requirement already satisfied: httpx<1,>=0.23.0 in /opt/conda/lib/python3.10/site-packages (from openai->-r requirements.txt (line 1)) (0.28.1)\n",
      "Requirement already satisfied: jiter<1,>=0.4.0 in /opt/conda/lib/python3.10/site-packages (from openai->-r requirements.txt (line 1)) (0.10.0)\n",
      "Requirement already satisfied: pydantic<3,>=1.9.0 in /opt/conda/lib/python3.10/site-packages (from openai->-r requirements.txt (line 1)) (2.11.7)\n",
      "Requirement already satisfied: sniffio in /opt/conda/lib/python3.10/site-packages (from openai->-r requirements.txt (line 1)) (1.3.1)\n",
      "Requirement already satisfied: tqdm>4 in /opt/conda/lib/python3.10/site-packages (from openai->-r requirements.txt (line 1)) (4.67.1)\n",
      "Requirement already satisfied: typing-extensions<5,>=4.11 in /opt/conda/lib/python3.10/site-packages (from openai->-r requirements.txt (line 1)) (4.15.0)\n",
      "Requirement already satisfied: exceptiongroup>=1.0.2 in /opt/conda/lib/python3.10/site-packages (from anyio<5,>=3.5.0->openai->-r requirements.txt (line 1)) (1.3.0)\n",
      "Requirement already satisfied: idna>=2.8 in /opt/conda/lib/python3.10/site-packages (from anyio<5,>=3.5.0->openai->-r requirements.txt (line 1)) (3.10)\n",
      "Requirement already satisfied: certifi in /opt/conda/lib/python3.10/site-packages (from httpx<1,>=0.23.0->openai->-r requirements.txt (line 1)) (2025.8.3)\n",
      "Requirement already satisfied: httpcore==1.* in /opt/conda/lib/python3.10/site-packages (from httpx<1,>=0.23.0->openai->-r requirements.txt (line 1)) (1.0.9)\n",
      "Requirement already satisfied: h11>=0.16 in /opt/conda/lib/python3.10/site-packages (from httpcore==1.*->httpx<1,>=0.23.0->openai->-r requirements.txt (line 1)) (0.16.0)\n",
      "Requirement already satisfied: annotated-types>=0.6.0 in /opt/conda/lib/python3.10/site-packages (from pydantic<3,>=1.9.0->openai->-r requirements.txt (line 1)) (0.7.0)\n",
      "Requirement already satisfied: pydantic-core==2.33.2 in /opt/conda/lib/python3.10/site-packages (from pydantic<3,>=1.9.0->openai->-r requirements.txt (line 1)) (2.33.2)\n",
      "Requirement already satisfied: typing-inspection>=0.4.0 in /opt/conda/lib/python3.10/site-packages (from pydantic<3,>=1.9.0->openai->-r requirements.txt (line 1)) (0.4.1)\n",
      "Requirement already satisfied: langchain-core<1.0.0,>=0.3.72 in /opt/conda/lib/python3.10/site-packages (from langchain->-r requirements.txt (line 2)) (0.3.76)\n",
      "Requirement already satisfied: langchain-text-splitters<1.0.0,>=0.3.9 in /opt/conda/lib/python3.10/site-packages (from langchain->-r requirements.txt (line 2)) (0.3.11)\n",
      "Requirement already satisfied: langsmith>=0.1.17 in /opt/conda/lib/python3.10/site-packages (from langchain->-r requirements.txt (line 2)) (0.4.27)\n",
      "Requirement already satisfied: SQLAlchemy<3,>=1.4 in /opt/conda/lib/python3.10/site-packages (from langchain->-r requirements.txt (line 2)) (2.0.43)\n",
      "Requirement already satisfied: requests<3,>=2 in /opt/conda/lib/python3.10/site-packages (from langchain->-r requirements.txt (line 2)) (2.32.5)\n",
      "Requirement already satisfied: PyYAML>=5.3 in /opt/conda/lib/python3.10/site-packages (from langchain->-r requirements.txt (line 2)) (6.0.2)\n",
      "Requirement already satisfied: async-timeout<5.0.0,>=4.0.0 in /opt/conda/lib/python3.10/site-packages (from langchain->-r requirements.txt (line 2)) (4.0.3)\n",
      "Requirement already satisfied: tenacity!=8.4.0,<10.0.0,>=8.1.0 in /opt/conda/lib/python3.10/site-packages (from langchain-core<1.0.0,>=0.3.72->langchain->-r requirements.txt (line 2)) (9.1.2)\n",
      "Requirement already satisfied: jsonpatch<2.0,>=1.33 in /opt/conda/lib/python3.10/site-packages (from langchain-core<1.0.0,>=0.3.72->langchain->-r requirements.txt (line 2)) (1.33)\n",
      "Requirement already satisfied: packaging>=23.2 in /opt/conda/lib/python3.10/site-packages (from langchain-core<1.0.0,>=0.3.72->langchain->-r requirements.txt (line 2)) (25.0)\n",
      "Requirement already satisfied: jsonpointer>=1.9 in /opt/conda/lib/python3.10/site-packages (from jsonpatch<2.0,>=1.33->langchain-core<1.0.0,>=0.3.72->langchain->-r requirements.txt (line 2)) (3.0.0)\n",
      "Requirement already satisfied: charset_normalizer<4,>=2 in /opt/conda/lib/python3.10/site-packages (from requests<3,>=2->langchain->-r requirements.txt (line 2)) (3.4.2)\n",
      "Requirement already satisfied: urllib3<3,>=1.21.1 in /opt/conda/lib/python3.10/site-packages (from requests<3,>=2->langchain->-r requirements.txt (line 2)) (2.5.0)\n",
      "Requirement already satisfied: greenlet>=1 in /opt/conda/lib/python3.10/site-packages (from SQLAlchemy<3,>=1.4->langchain->-r requirements.txt (line 2)) (3.2.4)\n",
      "Requirement already satisfied: aiohttp<4.0.0,>=3.8.3 in /opt/conda/lib/python3.10/site-packages (from langchain_community->-r requirements.txt (line 4)) (3.12.15)\n",
      "Requirement already satisfied: dataclasses-json<0.7,>=0.6.7 in /opt/conda/lib/python3.10/site-packages (from langchain_community->-r requirements.txt (line 4)) (0.6.7)\n",
      "Requirement already satisfied: pydantic-settings<3.0.0,>=2.10.1 in /opt/conda/lib/python3.10/site-packages (from langchain_community->-r requirements.txt (line 4)) (2.10.1)\n",
      "Requirement already satisfied: httpx-sse<1.0.0,>=0.4.0 in /opt/conda/lib/python3.10/site-packages (from langchain_community->-r requirements.txt (line 4)) (0.4.1)\n",
      "Requirement already satisfied: numpy>=1.26.2 in /opt/conda/lib/python3.10/site-packages (from langchain_community->-r requirements.txt (line 4)) (1.26.4)\n",
      "Requirement already satisfied: aiohappyeyeballs>=2.5.0 in /opt/conda/lib/python3.10/site-packages (from aiohttp<4.0.0,>=3.8.3->langchain_community->-r requirements.txt (line 4)) (2.6.1)\n",
      "Requirement already satisfied: aiosignal>=1.4.0 in /opt/conda/lib/python3.10/site-packages (from aiohttp<4.0.0,>=3.8.3->langchain_community->-r requirements.txt (line 4)) (1.4.0)\n",
      "Requirement already satisfied: attrs>=17.3.0 in /opt/conda/lib/python3.10/site-packages (from aiohttp<4.0.0,>=3.8.3->langchain_community->-r requirements.txt (line 4)) (25.3.0)\n",
      "Requirement already satisfied: frozenlist>=1.1.1 in /opt/conda/lib/python3.10/site-packages (from aiohttp<4.0.0,>=3.8.3->langchain_community->-r requirements.txt (line 4)) (1.7.0)\n",
      "Requirement already satisfied: multidict<7.0,>=4.5 in /opt/conda/lib/python3.10/site-packages (from aiohttp<4.0.0,>=3.8.3->langchain_community->-r requirements.txt (line 4)) (6.6.4)\n",
      "Requirement already satisfied: propcache>=0.2.0 in /opt/conda/lib/python3.10/site-packages (from aiohttp<4.0.0,>=3.8.3->langchain_community->-r requirements.txt (line 4)) (0.3.2)\n",
      "Requirement already satisfied: yarl<2.0,>=1.17.0 in /opt/conda/lib/python3.10/site-packages (from aiohttp<4.0.0,>=3.8.3->langchain_community->-r requirements.txt (line 4)) (1.20.1)\n",
      "Requirement already satisfied: marshmallow<4.0.0,>=3.18.0 in /opt/conda/lib/python3.10/site-packages (from dataclasses-json<0.7,>=0.6.7->langchain_community->-r requirements.txt (line 4)) (3.26.1)\n",
      "Requirement already satisfied: typing-inspect<1,>=0.4.0 in /opt/conda/lib/python3.10/site-packages (from dataclasses-json<0.7,>=0.6.7->langchain_community->-r requirements.txt (line 4)) (0.9.0)\n",
      "Requirement already satisfied: python-dotenv>=0.21.0 in /opt/conda/lib/python3.10/site-packages (from pydantic-settings<3.0.0,>=2.10.1->langchain_community->-r requirements.txt (line 4)) (1.1.1)\n",
      "Requirement already satisfied: mypy-extensions>=0.3.0 in /opt/conda/lib/python3.10/site-packages (from typing-inspect<1,>=0.4.0->dataclasses-json<0.7,>=0.6.7->langchain_community->-r requirements.txt (line 4)) (1.1.0)\n",
      "Requirement already satisfied: regex>=2022.1.18 in /opt/conda/lib/python3.10/site-packages (from tiktoken->-r requirements.txt (line 7)) (2025.9.1)\n",
      "Requirement already satisfied: pandas>=1.2 in /opt/conda/lib/python3.10/site-packages (from seaborn->-r requirements.txt (line 8)) (2.3.2)\n",
      "Requirement already satisfied: matplotlib!=3.6.1,>=3.4 in /opt/conda/lib/python3.10/site-packages (from seaborn->-r requirements.txt (line 8)) (3.10.0)\n",
      "Requirement already satisfied: orjson>=3.9.14 in /opt/conda/lib/python3.10/site-packages (from langsmith>=0.1.17->langchain->-r requirements.txt (line 2)) (3.11.3)\n",
      "Requirement already satisfied: requests-toolbelt>=1.0.0 in /opt/conda/lib/python3.10/site-packages (from langsmith>=0.1.17->langchain->-r requirements.txt (line 2)) (1.0.0)\n",
      "Requirement already satisfied: zstandard>=0.23.0 in /opt/conda/lib/python3.10/site-packages (from langsmith>=0.1.17->langchain->-r requirements.txt (line 2)) (0.23.0)\n",
      "Requirement already satisfied: contourpy>=1.0.1 in /opt/conda/lib/python3.10/site-packages (from matplotlib!=3.6.1,>=3.4->seaborn->-r requirements.txt (line 8)) (1.3.2)\n",
      "Requirement already satisfied: cycler>=0.10 in /opt/conda/lib/python3.10/site-packages (from matplotlib!=3.6.1,>=3.4->seaborn->-r requirements.txt (line 8)) (0.12.1)\n",
      "Requirement already satisfied: fonttools>=4.22.0 in /opt/conda/lib/python3.10/site-packages (from matplotlib!=3.6.1,>=3.4->seaborn->-r requirements.txt (line 8)) (4.59.2)\n",
      "Requirement already satisfied: kiwisolver>=1.3.1 in /opt/conda/lib/python3.10/site-packages (from matplotlib!=3.6.1,>=3.4->seaborn->-r requirements.txt (line 8)) (1.4.9)\n",
      "Requirement already satisfied: pillow>=8 in /opt/conda/lib/python3.10/site-packages (from matplotlib!=3.6.1,>=3.4->seaborn->-r requirements.txt (line 8)) (11.3.0)\n",
      "Requirement already satisfied: pyparsing>=2.3.1 in /opt/conda/lib/python3.10/site-packages (from matplotlib!=3.6.1,>=3.4->seaborn->-r requirements.txt (line 8)) (3.2.3)\n",
      "Requirement already satisfied: python-dateutil>=2.7 in /opt/conda/lib/python3.10/site-packages (from matplotlib!=3.6.1,>=3.4->seaborn->-r requirements.txt (line 8)) (2.9.0.post0)\n",
      "Requirement already satisfied: pytz>=2020.1 in /opt/conda/lib/python3.10/site-packages (from pandas>=1.2->seaborn->-r requirements.txt (line 8)) (2025.2)\n",
      "Requirement already satisfied: tzdata>=2022.7 in /opt/conda/lib/python3.10/site-packages (from pandas>=1.2->seaborn->-r requirements.txt (line 8)) (2025.2)\n",
      "Requirement already satisfied: six>=1.5 in /opt/conda/lib/python3.10/site-packages (from python-dateutil>=2.7->matplotlib!=3.6.1,>=3.4->seaborn->-r requirements.txt (line 8)) (1.17.0)\n"
     ]
    }
   ],
   "source": [
    "!pip install -r requirements.txt"
   ]
  },
  {
   "cell_type": "code",
   "execution_count": 2,
   "id": "9faa7529-e14d-440f-9492-eb254cc54d62",
   "metadata": {
    "tags": []
   },
   "outputs": [],
   "source": [
    "import pandas as pd\n",
    "import openai\n",
    "from langchain.schema import Document\n",
    "from langchain.text_splitter import RecursiveCharacterTextSplitter\n",
    "from langchain_openai import OpenAIEmbeddings\n",
    "from langchain.vectorstores import FAISS\n",
    "from langchain.llms import OpenAI\n",
    "from langchain.chains import RetrievalQA\n",
    "from langchain_community.retrievers import BM25Retriever\n",
    "from pprint import pprint\n",
    "import tiktoken\n",
    "import numpy as np\n",
    "from pyspark.sql import SparkSession\n",
    "import seaborn as sns\n",
    "import matplotlib.pyplot as plt\n",
    "from constants import OPENAI_EMBEDDDINGS, TIKTOKEN_MODEL, RETRIEVER_TOP_K, YEAR, LLM_MODEL, LLM_TEMPERATURE, CHUNK_SIZE, CHUNK_OVERLAP\n",
    "from dotenv import load_dotenv\n",
    "import os\n",
    "from langchain_core.vectorstores import InMemoryVectorStore\n",
    "from langchain.chains import create_retrieval_chain\n",
    "from langchain_core.prompts import PromptTemplate\n",
    "from langchain.chains.combine_documents import create_stuff_documents_chain\n",
    "from langchain_core.prompts import ChatPromptTemplate\n",
    "from langchain_openai import ChatOpenAI\n",
    "from langchain_community.vectorstores import FAISS\n",
    "from langchain_core.vectorstores import VectorStoreRetriever\n",
    "\n",
    "load_dotenv()\n",
    "api_key = os.getenv(\"OPENAI_API_KEY\")"
   ]
  },
  {
   "cell_type": "markdown",
   "id": "0f488ff3-162a-484d-8aa1-4f83b04c47da",
   "metadata": {},
   "source": [
    "## Data load in spark"
   ]
  },
  {
   "cell_type": "markdown",
   "id": "40419265-ccad-48de-b9c6-61aaa219d079",
   "metadata": {},
   "source": [
    "#### The corpus https://huggingface.co/datasets/eloukas/edgar-corpus does not contain tabular data as specified in the original paper. For this purpose, the crawler from https://github.com/lefterisloukas/edgar-crawler was used to extract the 10-K data for AIG (cik - 5272) for the years ranging from 2007 to 2022. "
   ]
  },
  {
   "cell_type": "code",
   "execution_count": 3,
   "id": "13181d7c-b458-4678-be1b-0cb0ab3396c9",
   "metadata": {},
   "outputs": [
    {
     "name": "stderr",
     "output_type": "stream",
     "text": [
      "Setting default log level to \"WARN\".\n",
      "To adjust logging level use sc.setLogLevel(newLevel). For SparkR, use setLogLevel(newLevel).\n",
      "25/09/17 02:03:20 WARN NativeCodeLoader: Unable to load native-hadoop library for your platform... using builtin-java classes where applicable\n",
      "25/09/17 02:03:21 WARN Utils: Service 'SparkUI' could not bind on port 4040. Attempting port 4041.\n"
     ]
    }
   ],
   "source": [
    "spark = SparkSession.builder \\\n",
    "    .appName(\"ReadGCSParquet\") \\\n",
    "    .config(\"spark.hadoop.fs.gs.impl\", \"com.google.cloud.hadoop.fs.gcs.GoogleHadoopFileSystem\") \\\n",
    "    .config(\"spark.hadoop.fs.AbstractFileSystem.gs.impl\", \"com.google.cloud.hadoop.fs.gcs.GoogleHadoopFS\") \\\n",
    "    .config(\"spark.hadoop.google.cloud.auth.service.account.enable\", \"true\") \\\n",
    "    .config(\"spark.driver.memory\", \"8g\") \\\n",
    "    .config(\"spark.executor.memory\", \"8g\") \\\n",
    "    .getOrCreate()"
   ]
  },
  {
   "cell_type": "code",
   "execution_count": 4,
   "id": "6ae3b62e-3aaa-4783-863b-6dcdf104d025",
   "metadata": {},
   "outputs": [
    {
     "name": "stderr",
     "output_type": "stream",
     "text": [
      "                                                                                \r"
     ]
    }
   ],
   "source": [
    "df = spark.read.option(\"multiLine\", True).json(\"data/10-K/*.json\")"
   ]
  },
  {
   "cell_type": "code",
   "execution_count": 5,
   "id": "639d0ba4-7452-438d-aa03-ff0585b3b7ab",
   "metadata": {
    "tags": []
   },
   "outputs": [
    {
     "name": "stdout",
     "output_type": "stream",
     "text": [
      "root\n",
      " |-- cik: string (nullable = true)\n",
      " |-- company: string (nullable = true)\n",
      " |-- complete_text_filing_link: string (nullable = true)\n",
      " |-- filename: string (nullable = true)\n",
      " |-- filing_date: string (nullable = true)\n",
      " |-- filing_html_index: string (nullable = true)\n",
      " |-- filing_type: string (nullable = true)\n",
      " |-- fiscal_year_end: string (nullable = true)\n",
      " |-- htm_filing_link: string (nullable = true)\n",
      " |-- item_1: string (nullable = true)\n",
      " |-- item_10: string (nullable = true)\n",
      " |-- item_11: string (nullable = true)\n",
      " |-- item_12: string (nullable = true)\n",
      " |-- item_13: string (nullable = true)\n",
      " |-- item_14: string (nullable = true)\n",
      " |-- item_15: string (nullable = true)\n",
      " |-- item_16: string (nullable = true)\n",
      " |-- item_1A: string (nullable = true)\n",
      " |-- item_1B: string (nullable = true)\n",
      " |-- item_1C: string (nullable = true)\n",
      " |-- item_2: string (nullable = true)\n",
      " |-- item_3: string (nullable = true)\n",
      " |-- item_4: string (nullable = true)\n",
      " |-- item_5: string (nullable = true)\n",
      " |-- item_6: string (nullable = true)\n",
      " |-- item_7: string (nullable = true)\n",
      " |-- item_7A: string (nullable = true)\n",
      " |-- item_8: string (nullable = true)\n",
      " |-- item_9: string (nullable = true)\n",
      " |-- item_9A: string (nullable = true)\n",
      " |-- item_9B: string (nullable = true)\n",
      " |-- item_9C: string (nullable = true)\n",
      " |-- period_of_report: string (nullable = true)\n",
      " |-- sic: string (nullable = true)\n",
      " |-- state_location: string (nullable = true)\n",
      " |-- state_of_inc: string (nullable = true)\n",
      "\n"
     ]
    }
   ],
   "source": [
    "# List out all the columns in the dataframe\n",
    "df.printSchema()"
   ]
  },
  {
   "cell_type": "code",
   "execution_count": 6,
   "id": "805a9079-f983-4e87-9d7a-bc4c9247a58f",
   "metadata": {
    "tags": []
   },
   "outputs": [
    {
     "name": "stderr",
     "output_type": "stream",
     "text": [
      "25/09/17 02:03:29 WARN SparkStringUtils: Truncated the string representation of a plan since it was too large. This behavior can be adjusted by setting 'spark.sql.debug.maxToStringFields'.\n",
      "                                                                                \r"
     ]
    }
   ],
   "source": [
    "# Use the columns related to the different items in the 10-K form along with period of report\n",
    "cols_to_use = ['item_1','item_1A','item_1B','item_1C','item_2','item_3','item_4',\n",
    "               'item_5','item_6','item_7','item_7A','item_8','item_9A','item_9B','item_9C',\n",
    "              'item_10','item_11','item_12','item_13','item_14','item_15','item_16','period_of_report']\n",
    "# Store the data in a pandas dataframe\n",
    "df_pd = pd.DataFrame(df.collect(),columns=df.columns)\n",
    "# Filter the dataframe \n",
    "df_pd_filt = df_pd[[c for c in cols_to_use]]"
   ]
  },
  {
   "cell_type": "markdown",
   "id": "8c075075-df1e-4c6d-a3ab-ce96d4067ce3",
   "metadata": {
    "tags": []
   },
   "source": [
    "# Exploratory data analysis"
   ]
  },
  {
   "cell_type": "markdown",
   "id": "1c19c468-643d-46c9-8dfb-03d667f2d755",
   "metadata": {},
   "source": [
    "#### Length of sections"
   ]
  },
  {
   "cell_type": "code",
   "execution_count": 7,
   "id": "3c2a26dc-e9a6-400e-89e4-61f1d9898ef3",
   "metadata": {
    "tags": []
   },
   "outputs": [],
   "source": [
    "def convert_to_df(x_dict):\n",
    "    \"\"\"\n",
    "    Method to convert dictionary to pandas dataframe\n",
    "    Args:\n",
    "            x_dict (dict): Dictionary containing keys and values.\n",
    "\n",
    "        Returns:\n",
    "            pd.DataFrame: Dataframe with keys as columns and values as rows.\n",
    "    \"\"\"\n",
    "    df = pd.DataFrame(x_dict, index=[0])\n",
    "    return df"
   ]
  },
  {
   "cell_type": "code",
   "execution_count": 8,
   "id": "f6c7bcd8-bbf6-4d9f-9a6b-c5903d2619fd",
   "metadata": {
    "tags": []
   },
   "outputs": [],
   "source": [
    "col_len={}\n",
    "for col in df_pd_filt.columns:\n",
    "    col_len[col] = np.mean(df_pd_filt[col].str.len())\n",
    "\n",
    "df_col_stats = convert_to_df(col_len)"
   ]
  },
  {
   "cell_type": "code",
   "execution_count": 9,
   "id": "8cceb914-a273-447a-960c-ec9e89ce3c58",
   "metadata": {
    "tags": []
   },
   "outputs": [
    {
     "data": {
      "image/png": "[encoded data removed]",
      "text/plain": [
       "<Figure size 640x480 with 1 Axes>"
      ]
     },
     "metadata": {},
     "output_type": "display_data"
    }
   ],
   "source": [
    "# Plot the histogram of the word count\n",
    "sns.barplot(data = df_col_stats, color='blue')\n",
    "plt.xticks(rotation=45, ha=\"right\")\n",
    "plt.yscale('log')\n",
    "plt.xlabel('10-K columns')\n",
    "plt.ylabel('Count')\n",
    "plt.title('Histogram of word count')\n",
    "plt.show()"
   ]
  },
  {
   "cell_type": "markdown",
   "id": "b727176a-514f-401e-b8ef-803559b30c9f",
   "metadata": {},
   "source": [
    "### Token distribution"
   ]
  },
  {
   "cell_type": "code",
   "execution_count": 10,
   "id": "e598015c-bc3f-45da-903f-43088070843f",
   "metadata": {
    "tags": []
   },
   "outputs": [],
   "source": [
    "enc = tiktoken.encoding_for_model(TIKTOKEN_MODEL)\n",
    "enc.encode(df_pd_filt.loc[0,col])\n",
    "col_token_len={}\n",
    "for col in df_pd_filt.columns:\n",
    "    col_token_len[col] = np.round(np.mean([len(t) for t in enc.encode_batch(df_pd_filt[col])]))\n",
    "\n",
    "df_col_token_stats = convert_to_df(col_len)\n"
   ]
  },
  {
   "cell_type": "code",
   "execution_count": 11,
   "id": "3ea8a02b-522e-41e2-85c4-000035d47918",
   "metadata": {
    "tags": []
   },
   "outputs": [
    {
     "data": {
      "image/png": "[encoded data removed]",
      "text/plain": [
       "<Figure size 640x480 with 1 Axes>"
      ]
     },
     "metadata": {},
     "output_type": "display_data"
    }
   ],
   "source": [
    "# Plot the histogram of the tokens\n",
    "sns.barplot(data = df_col_token_stats, color='blue')\n",
    "plt.xticks(rotation=45, ha=\"right\")\n",
    "plt.yscale('log')\n",
    "plt.xlabel('10-K columns')\n",
    "plt.ylabel('Count')\n",
    "plt.title('Histogram of token count')\n",
    "plt.show()"
   ]
  },
  {
   "cell_type": "markdown",
   "id": "e9f292a3-5e36-49df-b0ad-19f8e3644e3d",
   "metadata": {},
   "source": [
    "### Filter the data to a specific year"
   ]
  },
  {
   "cell_type": "code",
   "execution_count": 12,
   "id": "e9e5716f-826d-48aa-93d1-afdbc680f757",
   "metadata": {
    "tags": []
   },
   "outputs": [],
   "source": [
    "df_pd_filt_yr = df_pd_filt[pd.to_datetime(df_pd_filt['period_of_report']).dt.year==YEAR]"
   ]
  },
  {
   "cell_type": "markdown",
   "id": "51c3c020-be86-4705-8a7d-6f4715825cfc",
   "metadata": {},
   "source": [
    "# RAG development"
   ]
  },
  {
   "cell_type": "code",
   "execution_count": 13,
   "id": "de4b9fbc-ad16-4faa-8067-7631958e32c1",
   "metadata": {
    "tags": []
   },
   "outputs": [],
   "source": [
    "def get_metadata_text(x):\n",
    "    \"\"\"\n",
    "    Method to extract the metadata from the text\n",
    "    \"\"\"\n",
    "    if 'ITEM' in x[:10]:\n",
    "        return x.split('/')[1].split('\\n')[0].strip(' ')\n",
    "    else:\n",
    "        return ''"
   ]
  },
  {
   "cell_type": "code",
   "execution_count": 14,
   "id": "52dd3959-668b-4f0a-9c6b-8836460c0570",
   "metadata": {
    "tags": []
   },
   "outputs": [],
   "source": [
    "# Create Document objects from the text and store the metadata associated with it.\n",
    "documents=[]\n",
    "for i,row in df_pd_filt_yr.iterrows():\n",
    "    for col in df_pd_filt_yr.columns:\n",
    "        documents.append(Document(row[col], metadata={'year':row['period_of_report'],\n",
    "                                                     'section':col,\n",
    "                                                     'description':get_metadata_text(row[col])}))"
   ]
  },
  {
   "cell_type": "code",
   "execution_count": 15,
   "id": "3013942f-27f1-4d8f-90df-3ff94f493935",
   "metadata": {
    "tags": []
   },
   "outputs": [],
   "source": [
    "# Use the character text splitter to create chunks of the given size with appropriate overlap\n",
    "splitter = RecursiveCharacterTextSplitter(chunk_size=CHUNK_SIZE, chunk_overlap=CHUNK_OVERLAP)\n",
    "split_doc = splitter.split_documents(documents)"
   ]
  },
  {
   "cell_type": "code",
   "execution_count": 16,
   "id": "3a18aacd-10fe-43a4-8472-1e22b060634e",
   "metadata": {
    "tags": []
   },
   "outputs": [],
   "source": [
    "# Retriever using GPT-5 embeddings from OpenAI\n",
    "embeddings = OpenAIEmbeddings(model=OPENAI_EMBEDDDINGS)\n",
    "vector_store = InMemoryVectorStore(embeddings)\n",
    "ids = vector_store.add_documents(documents=split_doc)\n",
    "# Retriever with top K retrieval\n",
    "retriever = vector_store.as_retriever(search_kwargs={\"k\": RETRIEVER_TOP_K})\n"
   ]
  },
  {
   "cell_type": "code",
   "execution_count": 17,
   "id": "e45943cc-4e21-45fa-86be-0b766debf107",
   "metadata": {
    "tags": []
   },
   "outputs": [],
   "source": [
    "# RAG pipeline\n",
    "\n",
    "\n",
    "# Define LLM object\n",
    "llm = ChatOpenAI(\n",
    "    model=LLM_MODEL,\n",
    "    temperature=LLM_TEMPERATURE,\n",
    ")\n",
    "\n",
    "\n",
    "# Document prompt that uses the metadata and the page content from the documents\n",
    "document_prompt = PromptTemplate.from_template(\n",
    "    \"Year: {year}\\nSection: {section}\\nDescription: {description}\\nContent: {page_content}\"\n",
    ")\n",
    "\n",
    "# System prompt to the LLM\n",
    "system_prompt = (\n",
    "    \"You are a data extractor of financial documents like 10-K filed by companies.\"\n",
    "    \"Analyze the data carefully without making up data.\"\n",
    "    \"If you don't know the answer, say you don't know. \"\n",
    "    \"For section provide the appropriate section answer.\"\n",
    "    \"Keep the data concise and generate it in a CSV format\"\n",
    "    \"If any text data contains a comma then remove it\"\n",
    "    \"Based on the question asked provide a tabular response when possible.\\n\\n\"\n",
    "    \"Context: {context}\"\n",
    ")\n",
    "\n",
    "# Prompt template\n",
    "prompt = ChatPromptTemplate.from_messages([\n",
    "    (\"system\", system_prompt),\n",
    "    (\"human\", \"{input}\")\n",
    "])\n",
    "\n",
    "# QA chain connecting LLM to the prompt\n",
    "question_answer_chain = create_stuff_documents_chain(llm, prompt, document_prompt=document_prompt, document_variable_name=\"context\")\n",
    "\n",
    "# Retrieval chain connecting the retriever object to the QA chain\n",
    "chain = create_retrieval_chain(retriever, question_answer_chain)\n",
    "\n"
   ]
  },
  {
   "cell_type": "code",
   "execution_count": 18,
   "id": "fe47e4bd-2488-4424-b16c-f205011cbf3d",
   "metadata": {
    "tags": []
   },
   "outputs": [],
   "source": [
    "def convert_resp_df(resp):\n",
    "    \"\"\"\n",
    "    Method to convert LLM response to dataframe\n",
    "    \"\"\"\n",
    "    resp_header = [t.split(',') for t in resp.split('\\n')][0]\n",
    "    resp_data = [t.split(',') for t in resp.split('\\n')][1:]\n",
    "    resp_df = pd.DataFrame(resp_data, columns=resp_header)\n",
    "    return resp_df"
   ]
  },
  {
   "cell_type": "markdown",
   "id": "94f95efc-134d-431f-b121-b7a441e71e04",
   "metadata": {
    "tags": []
   },
   "source": [
    "### Get total revenues"
   ]
  },
  {
   "cell_type": "code",
   "execution_count": 19,
   "id": "5bdbd968-af9c-4540-9f80-79c724c725ed",
   "metadata": {
    "tags": []
   },
   "outputs": [
    {
     "name": "stdout",
     "output_type": "stream",
     "text": [
      "   Year Total Revenues USD millions                         Section\n",
      "0  2012                       65656  Item 6 Selected Financial Data\n",
      "1  2011                       59812  Item 6 Selected Financial Data\n",
      "2  2010                       72829  Item 6 Selected Financial Data\n",
      "3  2009                       70173  Item 6 Selected Financial Data\n",
      "4  2008                      -11777  Item 6 Selected Financial Data\n"
     ]
    }
   ],
   "source": [
    "query = \"What are the total revenues from 2008 to 2012? Which section of the document is this from?\"\n",
    "\n",
    "response = chain.invoke({\"input\": query})\n",
    "\n",
    "df_rev = convert_resp_df(response['answer'])\n",
    "\n",
    "print(df_rev)"
   ]
  },
  {
   "cell_type": "markdown",
   "id": "1c4efdf7-e3a7-42be-b0c7-9dc97b6fb2bd",
   "metadata": {},
   "source": [
    "### Get undiscounted net reserves from multiple years"
   ]
  },
  {
   "cell_type": "code",
   "execution_count": 20,
   "id": "12972a85-880e-4c29-bbc5-32183657f265",
   "metadata": {
    "tags": []
   },
   "outputs": [
    {
     "name": "stdout",
     "output_type": "stream",
     "text": [
      "   year net_reserves_held_undiscounted_millions_usd section description\n",
      "0  2004                                       48806  item_1    BUSINESS\n",
      "1  2007                                       71717  item_1    BUSINESS\n",
      "2  2008                                       75029  item_1    BUSINESS\n",
      "3  2010                                       74724  item_1    BUSINESS\n",
      "4  2012                                       72028  item_1    BUSINESS\n"
     ]
    }
   ],
   "source": [
    "query = \"What are the undiscounted net reserves from 2004, 2007, 2008, 2010, 2012? Which section of the document is this from?\"\n",
    "\n",
    "response = chain.invoke({\"input\": query})\n",
    "\n",
    "df_reserves = convert_resp_df(response['answer'])\n",
    "\n",
    "print(df_reserves)"
   ]
  },
  {
   "cell_type": "markdown",
   "id": "1c1a37c9-9d69-4e91-905b-33becda67d68",
   "metadata": {
    "tags": []
   },
   "source": [
    "### Get securities data"
   ]
  },
  {
   "cell_type": "code",
   "execution_count": null,
   "id": "6231041e-ac06-440c-a566-5f464f266923",
   "metadata": {
    "tags": []
   },
   "outputs": [],
   "source": [
    "query = \"List the top 5 available-for-sale securities by fair value? Which section of the document is this from?\"\n",
    "\n",
    "response = chain.invoke({\"input\": query})\n",
    "\n",
    "df_sec = convert_resp_df(response['answer'])\n",
    "\n",
    "print(df_sec)"
   ]
  },
  {
   "cell_type": "markdown",
   "id": "85f7cbab-394a-49d8-a7f7-7ad16fb6299b",
   "metadata": {
    "tags": []
   },
   "source": [
    "## Read from ground truth"
   ]
  },
  {
   "cell_type": "markdown",
   "id": "eed1be93-20a5-43af-8662-9d3fb3e0f066",
   "metadata": {},
   "source": [
    " Ground truth data was generated from the 10-K for the year specified in the constants.py file.  "
   ]
  },
  {
   "cell_type": "code",
   "execution_count": null,
   "id": "9265f3ba-a6dc-47b9-9549-2db8a14713e4",
   "metadata": {
    "tags": []
   },
   "outputs": [],
   "source": [
    "df_rev_gt = pd.read_csv('data/total_revenues.csv')\n",
    "df_reserve_gt = pd.read_csv('data/undisclosed_reserves.csv')\n",
    "df_securities_gt = pd.read_csv('data/securities.csv')"
   ]
  },
  {
   "cell_type": "code",
   "execution_count": null,
   "id": "e8de5f09-f9e5-4014-ad7e-ce0505c965b5",
   "metadata": {
    "tags": []
   },
   "outputs": [],
   "source": [
    "df_rev['Year'] = df_rev['Year'].astype(int)\n",
    "df_reserves['Year'] = df_reserves['Year'].astype(int)\n"
   ]
  },
  {
   "cell_type": "code",
   "execution_count": null,
   "id": "21e979ec-433c-4ee7-8918-2c25eded3ad6",
   "metadata": {
    "tags": []
   },
   "outputs": [],
   "source": [
    "df_rev_comb = df_rev.merge(df_rev_gt, left_on='Year', right_on='year', how='inner')\n",
    "df_rev_comb.to_csv('results/revenue_results.csv', index=False)"
   ]
  },
  {
   "cell_type": "code",
   "execution_count": null,
   "id": "4afc9f61-f7e8-4409-aa8d-3de277626672",
   "metadata": {
    "tags": []
   },
   "outputs": [],
   "source": [
    "df_rev_comb"
   ]
  },
  {
   "cell_type": "markdown",
   "id": "457832cf-7f29-4446-8c0c-dd4fd6bd2628",
   "metadata": {},
   "source": [
    "**As can be seen from the above joined table, there is an exact match between the total revenues for the years 2008-2012.**"
   ]
  },
  {
   "cell_type": "code",
   "execution_count": null,
   "id": "e6d086fb-1c30-45fb-9050-74db56a74158",
   "metadata": {
    "tags": []
   },
   "outputs": [],
   "source": [
    "df_reserves_comb = df_reserves.merge(df_reserve_gt, left_on='Year', right_on='year', how='inner')\n",
    "df_reserves_comb.to_csv('results/reserves_results.csv', index=False)"
   ]
  },
  {
   "cell_type": "code",
   "execution_count": null,
   "id": "68e6a050-bc80-456c-a21c-88f3b204f362",
   "metadata": {
    "tags": []
   },
   "outputs": [],
   "source": [
    "df_reserves_comb"
   ]
  },
  {
   "cell_type": "markdown",
   "id": "74b5df9e-0b62-42c0-ba9d-f160b907cfc4",
   "metadata": {
    "tags": []
   },
   "source": [
    "**As can be seen from the merged table there is an exact match for the undisclosed net reserves for multiple non-consecutive years.**"
   ]
  },
  {
   "cell_type": "code",
   "execution_count": null,
   "id": "e1734861-b6e3-4f4b-b3f6-9d52cd9d7086",
   "metadata": {
    "tags": []
   },
   "outputs": [],
   "source": [
    "df_sec_comb = df_sec.merge(df_securities_gt, left_on='Security', right_on='security category', how='outer')\n",
    "df_sec_comb.to_csv('results/securities_results.csv', index=False)"
   ]
  },
  {
   "cell_type": "code",
   "execution_count": null,
   "id": "b2906635-4497-40cd-bf81-a5df0c1271e7",
   "metadata": {
    "tags": []
   },
   "outputs": [],
   "source": [
    "df_sec_comb"
   ]
  },
  {
   "cell_type": "markdown",
   "id": "9697fc26-cbd8-4a40-b474-98bd0baf3aa7",
   "metadata": {},
   "source": [
    "**We can see that there is a mismatch for Obligations of states, municipalities and political subdvisions and that is because of the fact that the comma was removed from the generated text to esnure that there is no delimiter issue while creating the dataframe. One way to alleviate it would be to do either a fuzzy match of the strings or use embedding based approach to correct it.**"
   ]
  },
  {
   "cell_type": "code",
   "execution_count": null,
   "id": "6f091d5f-e2a3-4536-b926-122a6e340de0",
   "metadata": {},
   "outputs": [],
   "source": []
  }
 ],
 "metadata": {
  "environment": {
   "kernel": "conda-base-py",
   "name": "workbench-notebooks.m132",
   "type": "gcloud",
   "uri": "us-docker.pkg.dev/deeplearning-platform-release/gcr.io/workbench-notebooks:m132"
  },
  "kernelspec": {
   "display_name": "Python 3 (ipykernel) (Local)",
   "language": "python",
   "name": "conda-base-py"
  },
  "language_info": {
   "codemirror_mode": {
    "name": "ipython",
    "version": 3
   },
   "file_extension": ".py",
   "mimetype": "text/x-python",
   "name": "python",
   "nbconvert_exporter": "python",
   "pygments_lexer": "ipython3",
   "version": "3.10.18"
  }
 },
 "nbformat": 4,
 "nbformat_minor": 5
}
